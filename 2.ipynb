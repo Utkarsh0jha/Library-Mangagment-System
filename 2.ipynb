import sqlite3

# Book operations
def add_book(title, author, year):
    conn = sqlite3.connect('library_management.db')
    cursor = conn.cursor()
    cursor.execute("INSERT INTO books (title, author, year) VALUES (?, ?, ?)", (title, author, year))
    conn.commit()
    conn.close()

def view_books():
    conn = sqlite3.connect('library_management.db')
    cursor = conn.cursor()
    cursor.execute("SELECT * FROM books")
    books = cursor.fetchall()
    conn.close()
    return books

def update_book(book_id, title, author, year):
    conn = sqlite3.connect('library_management.db')
    cursor = conn.cursor()
    cursor.execute("UPDATE books SET title = ?, author = ?, year = ? WHERE id = ?", (title, author, year, book_id))
    conn.commit()
    conn.close()

def delete_book(book_id):
    conn = sqlite3.connect('library_management.db')
    cursor = conn.cursor()
    cursor.execute("DELETE FROM books WHERE id = ?", (book_id,))
    conn.commit()
    conn.close()

# Member operations
def add_member(name, email):
    conn = sqlite3.connect('library_management.db')
    cursor = conn.cursor()
    cursor.execute("INSERT INTO members (name, email) VALUES (?, ?)", (name, email))
    conn.commit()
    conn.close()

def view_members():
    conn = sqlite3.connect('library_management.db')
    cursor = conn.cursor()
    cursor.execute("SELECT * FROM members")
    members = cursor.fetchall()
    conn.close()
    return members

def update_member(member_id, name, email):
    conn = sqlite3.connect('library_management.db')
    cursor = conn.cursor()
    cursor.execute("UPDATE members SET name = ?, email = ? WHERE id = ?", (name, email, member_id))
    conn.commit()
    conn.close()

def delete_member(member_id):
    conn = sqlite3.connect('library_management.db')
    cursor = conn.cursor()
    cursor.execute("DELETE FROM members WHERE id = ?", (member_id,))
    conn.commit()
    conn.close()
