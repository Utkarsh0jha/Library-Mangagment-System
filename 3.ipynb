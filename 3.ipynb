import datetime

def borrow_book(book_id, member_id):
    conn = sqlite3.connect('library_management.db')
    cursor = conn.cursor()
    borrowed_date = datetime.date.today().isoformat()
    cursor.execute("INSERT INTO borrowed_books (book_id, member_id, borrowed_date) VALUES (?, ?, ?)", (book_id, member_id, borrowed_date))
    conn.commit()
    conn.close()

def return_book(borrow_id):
    conn = sqlite3.connect('library_management.db')
    cursor = conn.cursor()
    return_date = datetime.date.today().isoformat()
    cursor.execute("UPDATE borrowed_books SET return_date = ? WHERE id = ?", (return_date, borrow_id))
    conn.commit()
    conn.close()

def view_borrowed_books():
    conn = sqlite3.connect('library_management.db')
    cursor = conn.cursor()
    cursor.execute('''SELECT bb.id, b.title, m.name, bb.borrowed_date, bb.return_date
                      FROM borrowed_books bb
                      JOIN books b ON bb.book_id = b.id
                      JOIN members m ON bb.member_id = m.id
                      WHERE bb.return_date IS NULL''')
    borrowed_books = cursor.fetchall()
    conn.close()
    return borrowed_books
