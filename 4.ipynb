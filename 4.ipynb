def main():
    while True:
        print("\nLibrary Management System")
        print("1. Add Book")
        print("2. View Books")
        print("3. Update Book")
        print("4. Delete Book")
        print("5. Add Member")
        print("6. View Members")
        print("7. Update Member")
        print("8. Delete Member")
        print("9. Borrow Book")
        print("10. Return Book")
        print("11. View Borrowed Books")
        print("12. Exit")

        choice = input("Enter choice: ")

        if choice == '1':
            title = input("Enter title: ")
            author = input("Enter author: ")
            year = input("Enter year: ")
            add_book(title, author, year)
            print("Book added successfully.")
        
        elif choice == '2':
            books = view_books()
            print("\nBooks:")
            for book in books:
                print(book)
        
        elif choice == '3':
            book_id = int(input("Enter book ID to update: "))
            title = input("Enter new title: ")
            author = input("Enter new author: ")
            year = input("Enter new year: ")
            update_book(book_id, title, author, year)
            print("Book updated successfully.")
        
        elif choice == '4':
            book_id = int(input("Enter book ID to delete: "))
            delete_book(book_id)
            print("Book deleted successfully.")
        
        elif choice == '5':
            name = input("Enter name: ")
            email = input("Enter email: ")
            add_member(name, email)
            print("Member added successfully.")
        
        elif choice == '6':
            members = view_members()
            print("\nMembers:")
            for member in members:
                print(member)
        
        elif choice == '7':
            member_id = int(input("Enter member ID to update: "))
            name = input("Enter new name: ")
            email = input("Enter new email: ")
            update_member(member_id, name, email)
            print("Member updated successfully.")
        
        elif choice == '8':
            member_id = int(input("Enter member ID to delete: "))
            delete_member(member_id)
            print("Member deleted successfully.")
        
        elif choice == '9':
            book_id = int(input("Enter book ID to borrow: "))
            member_id = int(input("Enter member ID: "))
            borrow_book(book_id, member_id)
            print("Book borrowed successfully.")
        
        elif choice == '10':
            borrow_id = int(input("Enter borrow ID to return: "))
            return_book(borrow_id)
            print("Book returned successfully.")
        
        elif choice == '11':
            borrowed_books = view_borrowed_books()
            print("\nBorrowed Books:")
            for bb in borrowed_books:
                print(bb)
        
        elif choice == '12':
            break
        
        else:
            print("Invalid choice. Please try again.")

if __name__ == "__main__":
    main()
